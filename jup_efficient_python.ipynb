{
 "cells": [
  {
   "cell_type": "markdown",
   "metadata": {},
   "source": [
    "# Efficient Python Code Methods"
   ]
  },
  {
   "cell_type": "markdown",
   "metadata": {},
   "source": [
    "## Efficient Definition: \n",
    "* Minimal completion time (fast runtime: reduce latency)\n",
    "* Minimal resource consumption (small memory usage: reduce overhead)\n",
    "* Follows _pythonic_ ways "
   ]
  },
  {
   "cell_type": "markdown",
   "metadata": {},
   "source": [
    "## Best Practices"
   ]
  },
  {
   "cell_type": "markdown",
   "metadata": {},
   "source": [
    "### List Comprehension instead of loops"
   ]
  },
  {
   "cell_type": "code",
   "execution_count": 4,
   "metadata": {},
   "outputs": [
    {
     "name": "stdout",
     "output_type": "stream",
     "text": [
      "['Kramer', 'Elaine', 'George', 'Newman']\n",
      "['Kramer', 'Elaine', 'George', 'Newman']\n",
      "['Kramer', 'Elaine', 'George', 'Newman']\n"
     ]
    }
   ],
   "source": [
    "# Best Practice 1\n",
    "# Looping over contents instead of looping with index\n",
    "\n",
    "names = ['Jerry', 'Kramer', 'Elaine', 'George', 'Newman']\n",
    "bad_list = []\n",
    "better_list = []\n",
    "\n",
    "# Bad practice\n",
    "for name in names: # this loop only keeps names with 6 or more letter\n",
    "    if len(name) >= 6:\n",
    "        bad_list.append(name)\n",
    "print(bad_list)\n",
    "\n",
    "# Good practice\n",
    "for name in names:\n",
    "     if len(name) >= 6:\n",
    "        better_list.append(name)\n",
    "print(better_list)\n",
    "\n",
    "# Best practice (list comprehension)\n",
    "best_list = [name for name in names if len(name) >= 6]\n",
    "print(best_list)"
   ]
  },
  {
   "cell_type": "markdown",
   "metadata": {},
   "source": [
    "### Built-in objects and unpacking objects: range()"
   ]
  },
  {
   "cell_type": "code",
   "execution_count": 5,
   "metadata": {},
   "outputs": [
    {
     "name": "stdout",
     "output_type": "stream",
     "text": [
      "[0, 1, 2, 3, 4, 5]\n",
      "[1, 3, 5, 7, 9, 11]\n"
     ]
    }
   ],
   "source": [
    "# Creating lists with objects and unpacking them\n",
    "nums = range(6) # creates a range object\n",
    "nums_list = list(nums) # Convert nums to a list\n",
    "print(nums_list)\n",
    "\n",
    "# Create a new list of odd numbers from 1 to 11 by unpacking a range object\n",
    "nums_list2 = [*range(1,12,2)]\n",
    "print(nums_list2)"
   ]
  },
  {
   "cell_type": "markdown",
   "metadata": {},
   "source": [
    "### Built-in objects and unpacking objects: enumerate()"
   ]
  },
  {
   "cell_type": "code",
   "execution_count": 11,
   "metadata": {},
   "outputs": [
    {
     "name": "stdout",
     "output_type": "stream",
     "text": [
      "[(0, 'Jerry'), (1, 'Kramer'), (2, 'Elaine'), (3, 'George'), (4, 'Newman')]\n",
      "[(0, 'Jerry'), (1, 'Kramer'), (2, 'Elaine'), (3, 'George'), (4, 'Newman')]\n",
      "[(1, 'Jerry'), (2, 'Kramer'), (3, 'Elaine'), (4, 'George'), (5, 'Newman')]\n"
     ]
    }
   ],
   "source": [
    "# An enumerate() produces enumerate object, which is an iterator that produces a sequence of tuples, \n",
    "# each containing an index and the value from the iterable\n",
    "names = ['Jerry', 'Kramer', 'Elaine', 'George', 'Newman']\n",
    "\n",
    "# Rewrite the for loop to use enumerate\n",
    "indexed_names = []\n",
    "for i,name in enumerate(names):\n",
    "    index_name = (i,name)\n",
    "    indexed_names.append(index_name) \n",
    "print(indexed_names)\n",
    "\n",
    "# Rewrite the above for loop using list comprehension\n",
    "indexed_names_comp = [(i,name) for i,name in enumerate(names)]\n",
    "print(indexed_names_comp)\n",
    "\n",
    "# Unpack an enumerate object with a starting index of one instead of zero\n",
    "indexed_names_unpack = [*enumerate(names, start=1)]\n",
    "print(indexed_names_unpack)"
   ]
  },
  {
   "cell_type": "markdown",
   "metadata": {},
   "source": [
    "### Built-in objects and unpacking objects: map()"
   ]
  },
  {
   "cell_type": "code",
   "execution_count": 4,
   "metadata": {},
   "outputs": [
    {
     "name": "stdout",
     "output_type": "stream",
     "text": [
      "['JERRY', 'KRAMER', 'ELAINE', 'GEORGE', 'NEWMAN']\n",
      "['JERRY', 'KRAMER', 'ELAINE', 'GEORGE', 'NEWMAN']\n"
     ]
    }
   ],
   "source": [
    "# The map() function is used to apply a function on all elements of a specified iterable and return a map object\n",
    "names = ['Jerry', 'Kramer', 'Elaine', 'George', 'Newman']\n",
    "names_uppercase_1 = []\n",
    "names_uppercase_2 = []\n",
    "\n",
    "# Bad practice\n",
    "for name in names:\n",
    "  names_uppercase_1.append(name.upper())\n",
    "print(names_uppercase_1)\n",
    "\n",
    "# Best practice\n",
    "names_map  = map(str.upper, names) # Use map to apply str.upper to each element in names and returns output into a map object\n",
    "names_uppercase_2 = [*names_map] # Unpack names_map object into a list\n",
    "print(names_uppercase_2)"
   ]
  },
  {
   "cell_type": "markdown",
   "metadata": {},
   "source": [
    "### Built-in objects and unpacking objects: zip()"
   ]
  },
  {
   "cell_type": "code",
   "execution_count": 3,
   "metadata": {},
   "outputs": [
    {
     "name": "stdout",
     "output_type": "stream",
     "text": [
      "[('caio', '87'), ('fofo', '86'), ('muzy', '88')]\n",
      "<class 'list'>\n",
      "----\n",
      "('caio', '87')\n",
      "<class 'tuple'>\n"
     ]
    }
   ],
   "source": [
    "# The zip() function combines elements of 2 lists with matching indexes into an interable of tuples\n",
    "names = ['caio', 'fofo', 'muzy']\n",
    "ages = ['87','86','88']\n",
    "\n",
    "# Combine names and primary_types\n",
    "combination_of_tuples = [*zip(names, ages)] #using zip() to combine elements from the 2 lists into tuples and then unpacking them\n",
    "print(combination_of_tuples)\n",
    "print(type(combination_of_tuples))\n",
    "print('----')\n",
    "print(combination_of_tuples[0])\n",
    "print(type(combination_of_tuples[0]))\n",
    "\n"
   ]
  },
  {
   "cell_type": "markdown",
   "metadata": {},
   "source": [
    "### Combining, Counting, and Iterating \n",
    "Built-in modules:\n",
    "* Collections: Counter()\n",
    "* Itertools: combinations()"
   ]
  },
  {
   "cell_type": "code",
   "execution_count": 55,
   "metadata": {},
   "outputs": [
    {
     "name": "stdout",
     "output_type": "stream",
     "text": [
      "('caio', '87')\n",
      "('fofo', '86')\n",
      "('muzy', '88')\n",
      "----\n",
      "('caio', '87')\n",
      "('fofo', '86')\n"
     ]
    }
   ],
   "source": [
    "# Combining ( zip () )\n",
    "# Efficient methods for counting, combining, and iterating\n",
    "names = ['caio', 'fofo', 'muzy']\n",
    "ages = ['87','86','88']\n",
    "\n",
    "# Combine names and primary_types\n",
    "combination = [*zip(names, ages)] #combine all possibilities with zip and unpack as a list of objects\n",
    "\n",
    "print(*combination[:3], sep='\\n') #unpack the list as objects in the output\n",
    "print('----')\n",
    "# Combine 2 items from names and 3 items from primary_types\n",
    "differing_lengths = [*zip(names[:2], ages[:3])] # it will only combine until the smallest lengthed object is exhausted\n",
    "\n",
    "print(*differing_lengths, sep='\\n')"
   ]
  },
  {
   "cell_type": "code",
   "execution_count": 59,
   "metadata": {},
   "outputs": [
    {
     "name": "stdout",
     "output_type": "stream",
     "text": [
      "<class 'itertools.combinations'> \n",
      "\n",
      "[('Geodude', 'Cubone'), ('Geodude', 'Lickitung'), ('Geodude', 'Persian'), ('Geodude', 'Diglett'), ('Cubone', 'Lickitung'), ('Cubone', 'Persian'), ('Cubone', 'Diglett'), ('Lickitung', 'Persian'), ('Lickitung', 'Diglett'), ('Persian', 'Diglett')] \n",
      "\n"
     ]
    }
   ],
   "source": [
    "# Combining ( combinations from Intertools )\n",
    "\n",
    "# Import combinations from itertools\n",
    "from itertools import combinations\n",
    "\n",
    "pokemon = ['Geodude', 'Cubone', 'Lickitung', 'Persian', 'Diglett']\n",
    "\n",
    "# Create a combination object (list of tuples) with pairs of Pokémon\n",
    "combos_obj = combinations(pokemon, 2)\n",
    "print(type(combos_obj), '\\n')\n",
    "\n",
    "# Convert combos_obj to a list by unpacking\n",
    "combos_2 = [*combos_obj]\n",
    "print(combos_2, '\\n')"
   ]
  },
  {
   "cell_type": "code",
   "execution_count": 57,
   "metadata": {},
   "outputs": [
    {
     "name": "stdout",
     "output_type": "stream",
     "text": [
      "Counter({'ab': 4, 'bb': 2, 'cb': 2}) \n",
      "\n",
      "Counter({'c': 1, 'f': 1, 'm': 1})\n"
     ]
    }
   ],
   "source": [
    "# Counting ( Counter() )\n",
    "from collections import Counter\n",
    "primary_types = ['ab','ab', 'ab', 'ab', 'bb', 'bb', 'cb','cb']\n",
    "\n",
    "# Collect the count of primary types\n",
    "type_count = Counter(primary_types)\n",
    "print(type_count, '\\n')\n",
    "\n",
    "# Use list comprehension to get each Pokémon's starting letter\n",
    "starting_letters = [name[0] for name in names]\n",
    "\n",
    "# Collect the count of Pokémon for each starting_letter\n",
    "starting_letters_count = Counter(starting_letters)\n",
    "print(starting_letters_count)"
   ]
  },
  {
   "cell_type": "markdown",
   "metadata": {},
   "source": [
    "## Examining Runtime (Optimazing Code)"
   ]
  },
  {
   "cell_type": "code",
   "execution_count": 29,
   "metadata": {},
   "outputs": [
    {
     "data": {
      "application/json": {
       "cell": {
        "!": "OSMagics",
        "HTML": "Other",
        "SVG": "Other",
        "bash": "Other",
        "capture": "ExecutionMagics",
        "code_wrap": "ExecutionMagics",
        "debug": "ExecutionMagics",
        "file": "Other",
        "html": "DisplayMagics",
        "javascript": "DisplayMagics",
        "js": "DisplayMagics",
        "latex": "DisplayMagics",
        "markdown": "DisplayMagics",
        "perl": "Other",
        "prun": "ExecutionMagics",
        "pypy": "Other",
        "python": "Other",
        "python2": "Other",
        "python3": "Other",
        "ruby": "Other",
        "script": "ScriptMagics",
        "sh": "Other",
        "svg": "DisplayMagics",
        "sx": "OSMagics",
        "system": "OSMagics",
        "time": "ExecutionMagics",
        "timeit": "ExecutionMagics",
        "writefile": "OSMagics"
       },
       "line": {
        "alias": "OSMagics",
        "alias_magic": "BasicMagics",
        "autoawait": "AsyncMagics",
        "autocall": "AutoMagics",
        "automagic": "AutoMagics",
        "autosave": "KernelMagics",
        "bookmark": "OSMagics",
        "cat": "Other",
        "cd": "OSMagics",
        "clear": "KernelMagics",
        "code_wrap": "ExecutionMagics",
        "colors": "BasicMagics",
        "conda": "PackagingMagics",
        "config": "ConfigMagics",
        "connect_info": "KernelMagics",
        "cp": "Other",
        "debug": "ExecutionMagics",
        "dhist": "OSMagics",
        "dirs": "OSMagics",
        "doctest_mode": "BasicMagics",
        "ed": "Other",
        "edit": "KernelMagics",
        "env": "OSMagics",
        "gui": "BasicMagics",
        "hist": "Other",
        "history": "HistoryMagics",
        "killbgscripts": "ScriptMagics",
        "ldir": "Other",
        "less": "KernelMagics",
        "lf": "Other",
        "lk": "Other",
        "ll": "Other",
        "load": "CodeMagics",
        "load_ext": "ExtensionMagics",
        "loadpy": "CodeMagics",
        "logoff": "LoggingMagics",
        "logon": "LoggingMagics",
        "logstart": "LoggingMagics",
        "logstate": "LoggingMagics",
        "logstop": "LoggingMagics",
        "ls": "Other",
        "lsmagic": "BasicMagics",
        "lx": "Other",
        "macro": "ExecutionMagics",
        "magic": "BasicMagics",
        "mamba": "PackagingMagics",
        "man": "KernelMagics",
        "matplotlib": "PylabMagics",
        "micromamba": "PackagingMagics",
        "mkdir": "Other",
        "more": "KernelMagics",
        "mv": "Other",
        "notebook": "BasicMagics",
        "page": "BasicMagics",
        "pastebin": "CodeMagics",
        "pdb": "ExecutionMagics",
        "pdef": "NamespaceMagics",
        "pdoc": "NamespaceMagics",
        "pfile": "NamespaceMagics",
        "pinfo": "NamespaceMagics",
        "pinfo2": "NamespaceMagics",
        "pip": "PackagingMagics",
        "popd": "OSMagics",
        "pprint": "BasicMagics",
        "precision": "BasicMagics",
        "prun": "ExecutionMagics",
        "psearch": "NamespaceMagics",
        "psource": "NamespaceMagics",
        "pushd": "OSMagics",
        "pwd": "OSMagics",
        "pycat": "OSMagics",
        "pylab": "PylabMagics",
        "qtconsole": "KernelMagics",
        "quickref": "BasicMagics",
        "recall": "HistoryMagics",
        "rehashx": "OSMagics",
        "reload_ext": "ExtensionMagics",
        "rep": "Other",
        "rerun": "HistoryMagics",
        "reset": "NamespaceMagics",
        "reset_selective": "NamespaceMagics",
        "rm": "Other",
        "rmdir": "Other",
        "run": "ExecutionMagics",
        "save": "CodeMagics",
        "sc": "OSMagics",
        "set_env": "OSMagics",
        "store": "StoreMagics",
        "sx": "OSMagics",
        "system": "OSMagics",
        "tb": "ExecutionMagics",
        "time": "ExecutionMagics",
        "timeit": "ExecutionMagics",
        "unalias": "OSMagics",
        "unload_ext": "ExtensionMagics",
        "who": "NamespaceMagics",
        "who_ls": "NamespaceMagics",
        "whos": "NamespaceMagics",
        "xdel": "NamespaceMagics",
        "xmode": "BasicMagics"
       }
      },
      "text/plain": [
       "Available line magics:\n",
       "%alias  %alias_magic  %autoawait  %autocall  %automagic  %autosave  %bookmark  %cat  %cd  %clear  %code_wrap  %colors  %conda  %config  %connect_info  %cp  %debug  %dhist  %dirs  %doctest_mode  %ed  %edit  %env  %gui  %hist  %history  %killbgscripts  %ldir  %less  %lf  %lk  %ll  %load  %load_ext  %loadpy  %logoff  %logon  %logstart  %logstate  %logstop  %ls  %lsmagic  %lx  %macro  %magic  %mamba  %man  %matplotlib  %micromamba  %mkdir  %more  %mv  %notebook  %page  %pastebin  %pdb  %pdef  %pdoc  %pfile  %pinfo  %pinfo2  %pip  %popd  %pprint  %precision  %prun  %psearch  %psource  %pushd  %pwd  %pycat  %pylab  %qtconsole  %quickref  %recall  %rehashx  %reload_ext  %rep  %rerun  %reset  %reset_selective  %rm  %rmdir  %run  %save  %sc  %set_env  %store  %sx  %system  %tb  %time  %timeit  %unalias  %unload_ext  %who  %who_ls  %whos  %xdel  %xmode\n",
       "\n",
       "Available cell magics:\n",
       "%%!  %%HTML  %%SVG  %%bash  %%capture  %%code_wrap  %%debug  %%file  %%html  %%javascript  %%js  %%latex  %%markdown  %%perl  %%prun  %%pypy  %%python  %%python2  %%python3  %%ruby  %%script  %%sh  %%svg  %%sx  %%system  %%time  %%timeit  %%writefile\n",
       "\n",
       "Automagic is ON, % prefix IS NOT needed for line magics."
      ]
     },
     "execution_count": 29,
     "metadata": {},
     "output_type": "execute_result"
    }
   ],
   "source": [
    "# IPython Magic Commands \n",
    "%lsmagic\n"
   ]
  },
  {
   "cell_type": "code",
   "execution_count": 39,
   "metadata": {},
   "outputs": [
    {
     "name": "stdout",
     "output_type": "stream",
     "text": [
      "6.17 µs ± 223 ns per loop (mean ± std. dev. of 7 runs, 100,000 loops each)\n"
     ]
    }
   ],
   "source": [
    "# Time to generate 1000 random numbers between 0 and 1\n",
    "\n",
    "%timeit rand_nums = np.random.rand(1000)"
   ]
  },
  {
   "cell_type": "code",
   "execution_count": 40,
   "metadata": {},
   "outputs": [
    {
     "name": "stdout",
     "output_type": "stream",
     "text": [
      "The slowest run took 32.09 times longer than the fastest. This could mean that an intermediate result is being cached.\n",
      "105 µs ± 98.4 µs per loop (mean ± std. dev. of 2 runs, 10 loops each)\n"
     ]
    }
   ],
   "source": [
    "# Since it provides a distribution of time it takes to generate the random numbers, we can specify number of runs (-r) and loops (-n)\n",
    "# -r: number of interations you'd like to use to estimate runtime\n",
    "# -n: how many times to execute the code per run\n",
    "# Let's do 2 runs with 10 loops each in order to estimate runtime\n",
    "%timeit -r2 -n10 rand_nums = np.random.rand(1000)\n"
   ]
  },
  {
   "cell_type": "code",
   "execution_count": 45,
   "metadata": {},
   "outputs": [
    {
     "name": "stdout",
     "output_type": "stream",
     "text": [
      "5.99 µs ± 43.1 ns per loop (mean ± std. dev. of 7 runs, 100,000 loops each)\n",
      "5.99 µs ± 43.1 ns per loop (mean ± std. dev. of 7 runs, 100,000 loops each)\n",
      "5.916518209996866e-06\n",
      "6.059531249993597e-06\n"
     ]
    }
   ],
   "source": [
    "#saving the outupt into a variable by using \"-o\"\n",
    "times = %timeit -o rand_nums = np.random.rand(1000)\n",
    "\n",
    "print(times)\n",
    "print(times.best)\n",
    "print(times.worst)"
   ]
  },
  {
   "cell_type": "code",
   "execution_count": 42,
   "metadata": {},
   "outputs": [
    {
     "name": "stderr",
     "output_type": "stream",
     "text": [
      "UsageError: Line magic function `%%timeit` not found.\n"
     ]
    }
   ],
   "source": [
    "## Multiple vs. Single lines of code\n",
    "%%timeit\n",
    "nums = []\n",
    "for x in range(1000):\n",
    "    nums.append(x)\n"
   ]
  },
  {
   "cell_type": "code",
   "execution_count": 4,
   "metadata": {},
   "outputs": [
    {
     "name": "stdout",
     "output_type": "stream",
     "text": [
      "64.3 ns ± 2.73 ns per loop (mean ± std. dev. of 7 runs, 10,000,000 loops each)\n",
      "16.4 ns ± 0.776 ns per loop (mean ± std. dev. of 7 runs, 100,000,000 loops each)\n",
      "4.7860790504273614e-08\n"
     ]
    }
   ],
   "source": [
    "#Comparing times between data structure using formal names vs. literal syntax (short hand for creating a data structure)\n",
    "formal_list = list()\n",
    "formal_dict = dict()\n",
    "formal_tuple = tuple()\n",
    "\n",
    "literal_list = []\n",
    "literal_dict = {}\n",
    "literal_tuple = ()\n",
    "\n",
    "formal_time = %timeit -o formal_list = list()\n",
    "literal_time = %timeit -o literal_list = ()\n",
    "print(formal_time.average - literal_time.average)"
   ]
  },
  {
   "cell_type": "markdown",
   "metadata": {},
   "source": [
    "### Eliminating Loops (Zen of Python: \"Flat is better than Nested\")"
   ]
  },
  {
   "cell_type": "code",
   "execution_count": 19,
   "metadata": {},
   "outputs": [
    {
     "name": "stdout",
     "output_type": "stream",
     "text": [
      "[('pedro', 5)]\n",
      "[('pedro', 5)]\n"
     ]
    }
   ],
   "source": [
    "#Bad practice\n",
    "# A for loop has been created to filter the name with age less than 30 and show number of characters\n",
    "names = ['caio', 'pedro', 'fofo']\n",
    "ages = [36, 25, 37]\n",
    "name_lengths_loop = []\n",
    "for name,age in zip(names, ages):\n",
    "    if age < 30:\n",
    "        name_length = len(name)\n",
    "        tuple = (name, name_length)\n",
    "        name_lengths_loop.append(tuple)\n",
    "print(name_lengths_loop)\n",
    "\n",
    "#Best practice\n",
    "# Eliminate the above for loop using list comprehension and the map() function\n",
    "my_names = [name for name,age in zip(names, ages) if age < 30]\n",
    "\n",
    "# Create a map object that stores the name lengths\n",
    "name_lengths_map = map(len, my_names)\n",
    "\n",
    "# Combine my_names and name_lengths_map into a list\n",
    "names_and_name_lengths = [*zip(my_names, name_lengths_map)]\n",
    "print(names_and_name_lengths)"
   ]
  },
  {
   "cell_type": "markdown",
   "metadata": {},
   "source": [
    "### Making Loops more Efficient if they are inevitable\n",
    "* Lists\n",
    "* DataFrames (Iterating over rows or columns: iterrows(), itertuples(), apply())\n",
    "* DataFrames (Vectorizing operations, i.e., perfomring calculation on all elements of an object at once)"
   ]
  },
  {
   "cell_type": "markdown",
   "metadata": {},
   "source": [
    "### Let's start with Lists."
   ]
  },
  {
   "cell_type": "code",
   "execution_count": 7,
   "metadata": {},
   "outputs": [
    {
     "name": "stdout",
     "output_type": "stream",
     "text": [
      "Total counts: 8\n",
      "category a: count =   4 percentage = 50.0\n",
      "category b: count =   2 percentage = 25.0\n",
      "category c: count =   2 percentage = 25.0\n"
     ]
    }
   ],
   "source": [
    "# For Lists\n",
    "# Calculating the percentage of a each category in a list of categories\n",
    "categories_list = ['a','a', 'a', 'a', 'b', 'b', 'c','c']\n",
    "\n",
    "# Import Counter\n",
    "from collections import Counter\n",
    "\n",
    "# Collect the count of each category\n",
    "cat_counts = Counter(categories_list) #returns a dictionary\n",
    "\n",
    "# Improve for loop by doing the total count calculation outside of it \n",
    "total_count = len(categories_list)\n",
    "\n",
    "print('Total counts: {}'.format(total_count))\n",
    "for cat,count in cat_counts.items():\n",
    "    cat_percent = round(count / total_count * 100, 2)\n",
    "    print('category {}: count = {:3} percentage = {}'\n",
    "          .format(cat, count, cat_percent))"
   ]
  },
  {
   "cell_type": "code",
   "execution_count": 29,
   "metadata": {},
   "outputs": [
    {
     "name": "stdout",
     "output_type": "stream",
     "text": [
      "Dataframe created:\n",
      "   wins  total_games\n",
      "0    10           60\n",
      "1    20           60\n",
      "2    30           60\n",
      "---\n"
     ]
    }
   ],
   "source": [
    "data = {\n",
    "  \"wins\": [10, 20, 30],\n",
    "  \"total_games\": [60, 60, 60]\n",
    "}\n",
    "test_df = pd.DataFrame(data)\n",
    "print('Dataframe created:')\n",
    "print(test_df)\n",
    "print('---')\n",
    "\n",
    "def calc_win_perc(wins, games_played):\n",
    "  win_perc = wins / games_played\n",
    "  return np.round(win_perc,2)\n",
    "\n",
    "def calc_diff(games_played, wins):\n",
    "  diffs = games_played - wins\n",
    "  return diffs"
   ]
  },
  {
   "cell_type": "markdown",
   "metadata": {},
   "source": [
    "### Now, let's move to DataFrames."
   ]
  },
  {
   "cell_type": "code",
   "execution_count": 30,
   "metadata": {},
   "outputs": [
    {
     "name": "stdout",
     "output_type": "stream",
     "text": [
      "   wins  total_games  perc_wins\n",
      "0    10           60       0.17\n",
      "1    20           60       0.33\n",
      "2    30           60       0.50\n",
      "---\n",
      "Iterrows returns each row as a tuple:\n",
      "(0, wins           10\n",
      "total_games    60\n",
      "Name: 0, dtype: int64)\n",
      "<class 'pandas.core.series.Series'>\n",
      "(1, wins           20\n",
      "total_games    60\n",
      "Name: 1, dtype: int64)\n",
      "<class 'pandas.core.series.Series'>\n",
      "(2, wins           30\n",
      "total_games    60\n",
      "Name: 2, dtype: int64)\n",
      "<class 'pandas.core.series.Series'>\n",
      "---\n",
      "   wins  total_games  diff\n",
      "0    10           60    50\n",
      "1    20           60    40\n",
      "2    30           60    30\n"
     ]
    }
   ],
   "source": [
    "import pandas as pd\n",
    "import numpy as np\n",
    "\n",
    "# For DataFrames\n",
    "\n",
    "# 1) iterrrows()\n",
    "# .iterrows() returns each DataFrame row as a tuple of (index, pandas Series) pairs.\n",
    "# i, row: i returns the index of each pandas Series, and pandas Series is basically the column of the dataframe as a pandas Series \n",
    "\n",
    "#Bad Practice\n",
    "win_perc_list = []\n",
    "test_df_bad = test_df.copy()\n",
    "for i in range(len(test_df_bad)):\n",
    "    row = test_df_bad.iloc[i]\n",
    "    wins = row['wins']\n",
    "    games_played = row['total_games']\n",
    "    win_perc = calc_win_perc(wins, games_played)\n",
    "    win_perc_list.append(win_perc)\n",
    "test_df_bad['perc_wins'] = win_perc_list\n",
    "print(test_df_bad)\n",
    "print('---')\n",
    "\n",
    "#Best Practice 1: to use iterrows() and avoid having to create an index to go over each row\n",
    "win_perc_list = []\n",
    "test_df_best_1 = test_df.copy()\n",
    "\n",
    "####\n",
    "# Notice that iterrows returns a tuple as a Pandas series:\n",
    "print('Iterrows returns each row as a tuple:')\n",
    "for row_tuple in test_df_best_1.iterrows():\n",
    "    print(row_tuple)\n",
    "    print(type(row_tuple[1])) #access second tuple and its type\n",
    "print('---')\n",
    "\n",
    "\n",
    "for i, row in test_df_best_1.iterrows():\n",
    "    wins = row['wins']\n",
    "    games_played = row['total_games']    \n",
    "    win_perc = calc_win_perc(wins, games_played)\n",
    "    win_perc_list.append(win_perc)\n",
    "test_df_best_1['perc_wins'] = win_perc_list\n",
    "\n",
    "\n",
    "# 2) itertuples()\n",
    "# It is quicker than iterrows() and avoid having to create an index to go over each row\n",
    "# itertuples() is quicker than iterrows() because its output is also a row tuple but not a pandas series\n",
    "# itertuples()'s output is a row tuple with a type \"namedtuple\", where the not only the row number but the columns are \"tagged\" with names\n",
    "# which means you must access it with a \".method\". This accessibility is a property called \"attribute lookup\".\n",
    "\n",
    "#Best Practice 2: to use itertuples(), which also avoids having to create an index to go over each row\n",
    "win_perc_list = []\n",
    "test_df_best_2 = test_df.copy()\n",
    "for i, row in test_df_best_2.iterrows():\n",
    "    wins = row['wins']\n",
    "    games_played = row['total_games']    \n",
    "    win_perc = calc_win_perc(wins, games_played)\n",
    "    win_perc_list.append(win_perc)\n",
    "test_df_best_2['perc_wins'] = win_perc_list\n",
    "\n",
    "# 3) apply()\n",
    "# Takes a function as input (for example a lambda function) and applies to the entire dataframe, by specifiying an axis (0 = calculation within columns, 1 = calculation within rows)\n",
    "diff_apply = test_df.apply(lambda row: calc_diff(row['total_games'], row['wins']), axis=1) # the difference is performed within rows\n",
    "test_df['diff'] = diff_apply\n",
    "print(test_df)\n"
   ]
  },
  {
   "cell_type": "markdown",
   "metadata": {},
   "source": [
    "### NumPy instead of Python Lists\n",
    "* broadcasting = vectorizing\n",
    "\n",
    "Broadcasting allows NumPy to perform operations on arrays of different shapes by implicitly adjusting their shapes to make them compatible, while vectorizing enables efficient element-wise operations on entire arrays or matrices without explicit looping."
   ]
  },
  {
   "cell_type": "code",
   "execution_count": 35,
   "metadata": {},
   "outputs": [
    {
     "name": "stdout",
     "output_type": "stream",
     "text": [
      "1\n",
      "1\n",
      "[1, 4]\n",
      "<class 'list'>\n",
      "[1 4]\n",
      "<class 'numpy.ndarray'>\n",
      "<class 'numpy.ndarray'>\n",
      "   wins  total_games  diff\n",
      "0    10           60    50\n",
      "1    20           60    40\n",
      "2    30           60    30\n"
     ]
    }
   ],
   "source": [
    "# List is more verbose than NumPy arrays\n",
    "import numpy as np\n",
    "\n",
    "# Creating list and indexing\n",
    "nums_list = [ [1, 2, 3], \n",
    "         [4, 5, 6] ]\n",
    "print(nums_list[0][0])\n",
    "\n",
    "# Creating array (from a list) and indexing\n",
    "nums_array = np.array(nums_list)\n",
    "print(nums_array[0,0])\n",
    "\n",
    "# Return all values from a column with a list\n",
    "test_list = [row[0] for row in nums_list] #we must use list comprehension (or loops) to return columns, there is no other way\n",
    "print(test_list)\n",
    "print(type(test_list))\n",
    "\n",
    "# Return all values from a column with an array\n",
    "test_array = nums_array[:,0]\n",
    "print(test_array)\n",
    "print(type(nums_array[:,0]))\n",
    "\n",
    "# We can access the values within a Dataframe column by using the .values method\n",
    "print(type(test_df['total_games'].values))\n",
    "test_df['diff'] = test_df['total_games'].values - test_df['wins'].values\n",
    "print(test_df)"
   ]
  }
 ],
 "metadata": {
  "kernelspec": {
   "display_name": "Python 3",
   "language": "python",
   "name": "python3"
  },
  "language_info": {
   "codemirror_mode": {
    "name": "ipython",
    "version": 3
   },
   "file_extension": ".py",
   "mimetype": "text/x-python",
   "name": "python",
   "nbconvert_exporter": "python",
   "pygments_lexer": "ipython3",
   "version": "3.11.9"
  }
 },
 "nbformat": 4,
 "nbformat_minor": 2
}
