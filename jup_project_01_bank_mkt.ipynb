{
 "cells": [
  {
   "cell_type": "markdown",
   "metadata": {},
   "source": [
    "# Bank Marketing - Data Cleaning"
   ]
  },
  {
   "cell_type": "markdown",
   "metadata": {},
   "source": [
    "## Importing Data"
   ]
  },
  {
   "cell_type": "code",
   "execution_count": 5,
   "metadata": {},
   "outputs": [],
   "source": [
    "import pandas as pd\n",
    "import numpy as np"
   ]
  },
  {
   "cell_type": "code",
   "execution_count": 6,
   "metadata": {},
   "outputs": [
    {
     "name": "stdout",
     "output_type": "stream",
     "text": [
      "   client_id  age        job  marital    education credit_default mortgage  \\\n",
      "0          0   56  housemaid  married     basic.4y             no       no   \n",
      "1          1   57   services  married  high.school        unknown       no   \n",
      "2          2   37   services  married  high.school             no      yes   \n",
      "3          3   40     admin.  married     basic.6y             no       no   \n",
      "4          4   56   services  married  high.school             no       no   \n",
      "\n",
      "  month  day  contact_duration  number_contacts  previous_campaign_contacts  \\\n",
      "0   may   13               261                1                           0   \n",
      "1   may   19               149                1                           0   \n",
      "2   may   23               226                1                           0   \n",
      "3   may   27               151                1                           0   \n",
      "4   may    3               307                1                           0   \n",
      "\n",
      "  previous_outcome  cons_price_idx  euribor_three_months campaign_outcome  \n",
      "0      nonexistent          93.994                 4.857               no  \n",
      "1      nonexistent          93.994                 4.857               no  \n",
      "2      nonexistent          93.994                 4.857               no  \n",
      "3      nonexistent          93.994                 4.857               no  \n",
      "4      nonexistent          93.994                 4.857               no  \n"
     ]
    }
   ],
   "source": [
    "df = pd.read_csv(\"workspace/sources/datacamp/project_01_bank_mkt/bank_marketing.csv\")\n",
    "print(df.head())"
   ]
  },
  {
   "cell_type": "markdown",
   "metadata": {},
   "source": [
    "## Building client.csv"
   ]
  },
  {
   "cell_type": "markdown",
   "metadata": {},
   "source": [
    "### Important Columns for client.csv"
   ]
  },
  {
   "cell_type": "code",
   "execution_count": 7,
   "metadata": {},
   "outputs": [
    {
     "name": "stdout",
     "output_type": "stream",
     "text": [
      "   client_id  age        job  marital    education credit_default mortgage\n",
      "0          0   56  housemaid  married     basic.4y             no       no\n",
      "1          1   57   services  married  high.school        unknown       no\n",
      "2          2   37   services  married  high.school             no      yes\n",
      "3          3   40     admin.  married     basic.6y             no       no\n",
      "4          4   56   services  married  high.school             no       no\n"
     ]
    }
   ],
   "source": [
    "# Selecting columns\n",
    "df_client_cols_list = ['client_id', 'age', 'job', 'marital', 'education', 'credit_default', 'mortgage' ]\n",
    "df_client = df[df_client_cols_list]\n",
    "print(df_client.head())"
   ]
  },
  {
   "cell_type": "markdown",
   "metadata": {},
   "source": [
    "### Checking Data Types"
   ]
  },
  {
   "cell_type": "code",
   "execution_count": 8,
   "metadata": {},
   "outputs": [
    {
     "data": {
      "text/plain": [
       "client_id          int64\n",
       "age                int64\n",
       "job               object\n",
       "marital           object\n",
       "education         object\n",
       "credit_default    object\n",
       "mortgage          object\n",
       "dtype: object"
      ]
     },
     "execution_count": 8,
     "metadata": {},
     "output_type": "execute_result"
    }
   ],
   "source": [
    "df_client.dtypes"
   ]
  },
  {
   "cell_type": "markdown",
   "metadata": {},
   "source": [
    "### Saving a copy"
   ]
  },
  {
   "cell_type": "code",
   "execution_count": 9,
   "metadata": {},
   "outputs": [],
   "source": [
    "df_client_treated = df_client.copy()"
   ]
  },
  {
   "cell_type": "markdown",
   "metadata": {},
   "source": [
    "### Converting to boolean"
   ]
  },
  {
   "cell_type": "code",
   "execution_count": 10,
   "metadata": {},
   "outputs": [
    {
     "name": "stdout",
     "output_type": "stream",
     "text": [
      "--------------\n",
      "credit_default\n",
      "no         32588\n",
      "unknown     8597\n",
      "yes            3\n",
      "Name: count, dtype: int64\n",
      "--------------\n",
      "--------------\n",
      "mortgage\n",
      "yes        21576\n",
      "no         18622\n",
      "unknown      990\n",
      "Name: count, dtype: int64\n",
      "--------------\n"
     ]
    }
   ],
   "source": [
    "# Checking the boolean columns\n",
    "boolean_cols_client = [\"credit_default\", \"mortgage\"]\n",
    "\n",
    "for col in boolean_cols_client:\n",
    "    print(\"--------------\")\n",
    "    print(df_client_treated[col].value_counts())\n",
    "    print(\"--------------\")"
   ]
  },
  {
   "cell_type": "markdown",
   "metadata": {},
   "source": [
    "### Converting 'yes' and 'no' values to boolean (keeping 'unknown') and 'object' type"
   ]
  },
  {
   "cell_type": "code",
   "execution_count": 11,
   "metadata": {},
   "outputs": [],
   "source": [
    "# Clean and convert client columns to bool data type\n",
    "for col in [\"credit_default\", \"mortgage\"]:\n",
    "  df_client_treated[col] = df_client_treated[col].map({\"yes\": 1,\n",
    "                                                       \"no\": 0,\n",
    "                                                       \"unknown\": 0})\n",
    "  df_client_treated[col] = df_client_treated[col].astype(bool)\n"
   ]
  },
  {
   "cell_type": "code",
   "execution_count": 12,
   "metadata": {},
   "outputs": [
    {
     "name": "stdout",
     "output_type": "stream",
     "text": [
      "--------------\n",
      "credit_default\n",
      "False    41185\n",
      "True         3\n",
      "Name: count, dtype: int64\n",
      "--------------\n",
      "--------------\n",
      "mortgage\n",
      "True     21576\n",
      "False    19612\n",
      "Name: count, dtype: int64\n",
      "--------------\n"
     ]
    }
   ],
   "source": [
    "# Checking the boolean columns\n",
    "boolean_cols_client = [\"credit_default\", \"mortgage\"]\n",
    "\n",
    "for col in boolean_cols_client:\n",
    "    print(\"--------------\")\n",
    "    print(df_client_treated[col].value_counts())\n",
    "    print(\"--------------\")"
   ]
  },
  {
   "cell_type": "markdown",
   "metadata": {},
   "source": [
    "### Converting 'unknown' values to NaN only for the education column"
   ]
  },
  {
   "cell_type": "code",
   "execution_count": 13,
   "metadata": {},
   "outputs": [
    {
     "name": "stdout",
     "output_type": "stream",
     "text": [
      "     education\n",
      "0     basic.4y\n",
      "1  high.school\n",
      "2  high.school\n",
      "3     basic.6y\n",
      "4  high.school\n",
      "education          \n",
      "university.degree      12168\n",
      "high.school             9515\n",
      "basic.9y                6045\n",
      "professional.course     5243\n",
      "basic.4y                4176\n",
      "basic.6y                2292\n",
      "illiterate                18\n",
      "Name: count, dtype: int64\n"
     ]
    }
   ],
   "source": [
    "client_cols_with_unknown = [\"education\"]\n",
    "df_client_treated[client_cols_with_unknown] = df_client_treated[client_cols_with_unknown].replace('unknown', np.nan)\n",
    "print(df_client_treated[client_cols_with_unknown].head())\n",
    "print(df_client_treated[client_cols_with_unknown].value_counts())"
   ]
  },
  {
   "cell_type": "markdown",
   "metadata": {},
   "source": [
    "### Cleaning education and job columns"
   ]
  },
  {
   "cell_type": "code",
   "execution_count": 14,
   "metadata": {},
   "outputs": [
    {
     "data": {
      "text/html": [
       "<div>\n",
       "<style scoped>\n",
       "    .dataframe tbody tr th:only-of-type {\n",
       "        vertical-align: middle;\n",
       "    }\n",
       "\n",
       "    .dataframe tbody tr th {\n",
       "        vertical-align: top;\n",
       "    }\n",
       "\n",
       "    .dataframe thead th {\n",
       "        text-align: right;\n",
       "    }\n",
       "</style>\n",
       "<table border=\"1\" class=\"dataframe\">\n",
       "  <thead>\n",
       "    <tr style=\"text-align: right;\">\n",
       "      <th></th>\n",
       "      <th>education</th>\n",
       "      <th>job</th>\n",
       "    </tr>\n",
       "  </thead>\n",
       "  <tbody>\n",
       "    <tr>\n",
       "      <th>0</th>\n",
       "      <td>basic_4y</td>\n",
       "      <td>housemaid</td>\n",
       "    </tr>\n",
       "    <tr>\n",
       "      <th>1</th>\n",
       "      <td>high_school</td>\n",
       "      <td>services</td>\n",
       "    </tr>\n",
       "    <tr>\n",
       "      <th>2</th>\n",
       "      <td>high_school</td>\n",
       "      <td>services</td>\n",
       "    </tr>\n",
       "    <tr>\n",
       "      <th>3</th>\n",
       "      <td>basic_6y</td>\n",
       "      <td>admin_</td>\n",
       "    </tr>\n",
       "    <tr>\n",
       "      <th>4</th>\n",
       "      <td>high_school</td>\n",
       "      <td>services</td>\n",
       "    </tr>\n",
       "    <tr>\n",
       "      <th>5</th>\n",
       "      <td>basic_9y</td>\n",
       "      <td>services</td>\n",
       "    </tr>\n",
       "    <tr>\n",
       "      <th>6</th>\n",
       "      <td>professional_course</td>\n",
       "      <td>admin_</td>\n",
       "    </tr>\n",
       "    <tr>\n",
       "      <th>7</th>\n",
       "      <td>NaN</td>\n",
       "      <td>blue-collar</td>\n",
       "    </tr>\n",
       "    <tr>\n",
       "      <th>8</th>\n",
       "      <td>professional_course</td>\n",
       "      <td>technician</td>\n",
       "    </tr>\n",
       "    <tr>\n",
       "      <th>9</th>\n",
       "      <td>high_school</td>\n",
       "      <td>services</td>\n",
       "    </tr>\n",
       "  </tbody>\n",
       "</table>\n",
       "</div>"
      ],
      "text/plain": [
       "             education          job\n",
       "0             basic_4y    housemaid\n",
       "1          high_school     services\n",
       "2          high_school     services\n",
       "3             basic_6y       admin_\n",
       "4          high_school     services\n",
       "5             basic_9y     services\n",
       "6  professional_course       admin_\n",
       "7                  NaN  blue-collar\n",
       "8  professional_course   technician\n",
       "9          high_school     services"
      ]
     },
     "execution_count": 14,
     "metadata": {},
     "output_type": "execute_result"
    }
   ],
   "source": [
    "# Replace \".\" with \"_\" in multiple columns without using lambda\n",
    "client_columns_to_replace = [\"education\", \"job\"]\n",
    "df_client_treated[client_columns_to_replace] = df_client_treated[client_columns_to_replace].apply(lambda x: x.str.replace('.', '_'))\n",
    "df_client_treated[[\"education\", \"job\"]].head(10)"
   ]
  },
  {
   "cell_type": "markdown",
   "metadata": {},
   "source": [
    "### Saving client as CSV"
   ]
  },
  {
   "cell_type": "code",
   "execution_count": 15,
   "metadata": {},
   "outputs": [],
   "source": [
    "# Saving dataframe as CSV\n",
    "df_client_treated.to_csv(\"workspace/sources/datacamp/project_01_bank_mkt/client.csv\", index=False)"
   ]
  },
  {
   "cell_type": "markdown",
   "metadata": {},
   "source": [
    "## Building campaign.csv"
   ]
  },
  {
   "cell_type": "code",
   "execution_count": 16,
   "metadata": {},
   "outputs": [
    {
     "name": "stdout",
     "output_type": "stream",
     "text": [
      "   client_id  number_contacts  contact_duration  previous_campaign_contacts  \\\n",
      "0          0                1               261                           0   \n",
      "1          1                1               149                           0   \n",
      "2          2                1               226                           0   \n",
      "3          3                1               151                           0   \n",
      "4          4                1               307                           0   \n",
      "\n",
      "  previous_outcome campaign_outcome month  day  \n",
      "0      nonexistent               no   may   13  \n",
      "1      nonexistent               no   may   19  \n",
      "2      nonexistent               no   may   23  \n",
      "3      nonexistent               no   may   27  \n",
      "4      nonexistent               no   may    3  \n"
     ]
    }
   ],
   "source": [
    "# Selecting columns\n",
    "df_campaign_cols_list = ['client_id', 'number_contacts', 'contact_duration', 'previous_campaign_contacts', 'previous_outcome', 'campaign_outcome', 'month', 'day']\n",
    "df_campaign = df[df_campaign_cols_list]\n",
    "print(df_campaign.head())"
   ]
  },
  {
   "cell_type": "markdown",
   "metadata": {},
   "source": [
    "### Checking Data Types"
   ]
  },
  {
   "cell_type": "code",
   "execution_count": 17,
   "metadata": {},
   "outputs": [
    {
     "data": {
      "text/plain": [
       "client_id                      int64\n",
       "number_contacts                int64\n",
       "contact_duration               int64\n",
       "previous_campaign_contacts     int64\n",
       "previous_outcome              object\n",
       "campaign_outcome              object\n",
       "month                         object\n",
       "day                            int64\n",
       "dtype: object"
      ]
     },
     "execution_count": 17,
     "metadata": {},
     "output_type": "execute_result"
    }
   ],
   "source": [
    "df_campaign.dtypes"
   ]
  },
  {
   "cell_type": "markdown",
   "metadata": {},
   "source": [
    "### Saving a copy"
   ]
  },
  {
   "cell_type": "code",
   "execution_count": 18,
   "metadata": {},
   "outputs": [],
   "source": [
    "df_campaign_treated = df_campaign.copy()"
   ]
  },
  {
   "cell_type": "markdown",
   "metadata": {},
   "source": [
    "### Converting to boolean"
   ]
  },
  {
   "cell_type": "code",
   "execution_count": 19,
   "metadata": {},
   "outputs": [
    {
     "name": "stdout",
     "output_type": "stream",
     "text": [
      "--------------\n",
      "previous_outcome\n",
      "nonexistent    35563\n",
      "failure         4252\n",
      "success         1373\n",
      "Name: count, dtype: int64\n",
      "--------------\n",
      "--------------\n",
      "campaign_outcome\n",
      "no     36548\n",
      "yes     4640\n",
      "Name: count, dtype: int64\n",
      "--------------\n"
     ]
    }
   ],
   "source": [
    "# Checking the boolean columns\n",
    "boolean_cols_campaign = [\"previous_outcome\", \"campaign_outcome\"]\n",
    "\n",
    "for col in boolean_cols_campaign:\n",
    "    print(\"--------------\")\n",
    "    print(df_campaign_treated[col].value_counts())\n",
    "    print(\"--------------\")"
   ]
  },
  {
   "cell_type": "markdown",
   "metadata": {},
   "source": [
    "### Converting 'yes/no' and \"success/failure\" values to boolean (keeping 'nonexistent') and 'object' type"
   ]
  },
  {
   "cell_type": "code",
   "execution_count": 20,
   "metadata": {},
   "outputs": [
    {
     "name": "stdout",
     "output_type": "stream",
     "text": [
      "[0 1]\n",
      "bool\n",
      "[0 1]\n",
      "bool\n"
     ]
    }
   ],
   "source": [
    "# Convert yes/no column to 1 and 0\n",
    "df_campaign_treated[\"campaign_outcome\"] = df_campaign_treated[\"campaign_outcome\"].map({\"yes\": 1, \"no\": 0})\n",
    "print(df_campaign_treated[\"campaign_outcome\"].unique())\n",
    "df_campaign_treated[\"campaign_outcome\"] = df_campaign_treated[\"campaign_outcome\"].astype(bool)\n",
    "print(df_campaign_treated[\"campaign_outcome\"].dtype)\n",
    "\n",
    "# Convert success/failure column to 1 and 0\n",
    "df_campaign_treated[\"previous_outcome\"] = df_campaign_treated[\"previous_outcome\"].map({\"success\": 1, \"failure\": 0, \"nonexistent\": 0})\n",
    "print(df_campaign_treated[\"previous_outcome\"].unique())\n",
    "df_campaign_treated[\"previous_outcome\"] = df_campaign_treated[\"previous_outcome\"].astype(bool)\n",
    "print(df_campaign_treated[\"previous_outcome\"].dtype)"
   ]
  },
  {
   "cell_type": "code",
   "execution_count": 21,
   "metadata": {},
   "outputs": [
    {
     "name": "stdout",
     "output_type": "stream",
     "text": [
      "--------------\n",
      "previous_outcome\n",
      "False    39815\n",
      "True      1373\n",
      "Name: count, dtype: int64\n",
      "--------------\n",
      "--------------\n",
      "campaign_outcome\n",
      "False    36548\n",
      "True      4640\n",
      "Name: count, dtype: int64\n",
      "--------------\n"
     ]
    }
   ],
   "source": [
    "# Checking the boolean columns\n",
    "boolean_cols_campaign = [\"previous_outcome\", \"campaign_outcome\"]\n",
    "\n",
    "for col in boolean_cols_campaign:\n",
    "    print(\"--------------\")\n",
    "    print(df_campaign_treated[col].value_counts())\n",
    "    print(\"--------------\")"
   ]
  },
  {
   "cell_type": "code",
   "execution_count": 22,
   "metadata": {},
   "outputs": [
    {
     "name": "stdout",
     "output_type": "stream",
     "text": [
      "[False  True]\n",
      "[False  True]\n",
      "client_id                     0\n",
      "number_contacts               0\n",
      "contact_duration              0\n",
      "previous_campaign_contacts    0\n",
      "previous_outcome              0\n",
      "campaign_outcome              0\n",
      "month                         0\n",
      "day                           0\n",
      "dtype: int64\n"
     ]
    }
   ],
   "source": [
    "print(df_campaign_treated[\"previous_outcome\"].unique())\n",
    "print(df_campaign_treated[\"campaign_outcome\"].unique())\n",
    "print(df_campaign_treated.isnull().sum())"
   ]
  },
  {
   "cell_type": "markdown",
   "metadata": {},
   "source": [
    "### Converting 'nonexistent' values to NaN only for the previous_outcome column"
   ]
  },
  {
   "cell_type": "code",
   "execution_count": 23,
   "metadata": {},
   "outputs": [
    {
     "name": "stdout",
     "output_type": "stream",
     "text": [
      "previous_outcome\n",
      "False               39815\n",
      "True                 1373\n",
      "Name: count, dtype: int64\n"
     ]
    }
   ],
   "source": [
    "campaign_cols_with_nonexistent = [\"previous_outcome\"]\n",
    "df_campaign_treated[campaign_cols_with_nonexistent] = df_campaign_treated[campaign_cols_with_nonexistent].replace('nonexistent', np.nan)\n",
    "print(df_campaign_treated[campaign_cols_with_nonexistent].value_counts())"
   ]
  },
  {
   "cell_type": "markdown",
   "metadata": {},
   "source": [
    "### Creating last_contact_date column"
   ]
  },
  {
   "cell_type": "code",
   "execution_count": 24,
   "metadata": {},
   "outputs": [
    {
     "name": "stdout",
     "output_type": "stream",
     "text": [
      "month    object\n",
      "day       int64\n",
      "dtype: object\n",
      "['may' 'jun' 'jul' 'aug' 'oct' 'nov' 'dec' 'mar' 'apr' 'sep']\n",
      "[13 19 23 27  3  5 12 21  8  9 29 14  1  6  2 16 20 10 28 30 22 25 11 17\n",
      " 15 26 18  4 24 31  7]\n"
     ]
    }
   ],
   "source": [
    "# Check date-related columns\n",
    "print(df_campaign_treated[[\"month\", \"day\"]].dtypes)\n",
    "print(df_campaign_treated[\"month\"].unique())\n",
    "print(df_campaign_treated[\"day\"].unique())\n"
   ]
  },
  {
   "cell_type": "code",
   "execution_count": 25,
   "metadata": {},
   "outputs": [
    {
     "name": "stdout",
     "output_type": "stream",
     "text": [
      "  last_contact_date  year month day\n",
      "0       2022-may-13  2022   may  13\n",
      "1       2022-may-19  2022   may  19\n",
      "2       2022-may-23  2022   may  23\n",
      "3       2022-may-27  2022   may  27\n",
      "4        2022-may-3  2022   may   3\n",
      "------------------------------\n",
      "0   2022-05-13\n",
      "1   2022-05-19\n",
      "2   2022-05-23\n",
      "3   2022-05-27\n",
      "4   2022-05-03\n",
      "Name: last_contact_date, dtype: datetime64[ns]\n"
     ]
    },
    {
     "name": "stderr",
     "output_type": "stream",
     "text": [
      "/tmp/ipykernel_780/2555768964.py:15: UserWarning: The argument 'infer_datetime_format' is deprecated and will be removed in a future version. A strict version of it is now the default, see https://pandas.pydata.org/pdeps/0004-consistent-to-datetime-parsing.html. You can safely remove this argument.\n",
      "  df_campaign_treated['last_contact_date'] = pd.to_datetime(df_campaign_treated['last_contact_date'],\n",
      "/tmp/ipykernel_780/2555768964.py:15: UserWarning: Could not infer format, so each element will be parsed individually, falling back to `dateutil`. To ensure parsing is consistent and as-expected, please specify a format.\n",
      "  df_campaign_treated['last_contact_date'] = pd.to_datetime(df_campaign_treated['last_contact_date'],\n"
     ]
    }
   ],
   "source": [
    "# Create year column\n",
    "df_campaign_treated['year'] = '2022'\n",
    "\n",
    "# Create a new column for concatenated values\n",
    "df_campaign_treated['last_contact_date'] = ''\n",
    "\n",
    "# Change day type from int to object\n",
    "df_campaign_treated['day'] = df_campaign_treated['day'].astype(str)\n",
    "\n",
    "# Concatenate the columns using the pd.concat() function\n",
    "df_campaign_treated['last_contact_date'] = df_campaign_treated['year'] + '-' + df_campaign_treated['month'] + '-' + df_campaign_treated['day']\n",
    "\n",
    "print(df_campaign_treated[['last_contact_date', 'year', 'month', 'day']].head())\n",
    "\n",
    "df_campaign_treated['last_contact_date'] = pd.to_datetime(df_campaign_treated['last_contact_date'],\n",
    "                                             # Attempt to infer format of each date\n",
    "                                             infer_datetime_format=True,\n",
    "                                             # Return NA for rows where conversion failed\n",
    "                                             errors = 'coerce')\n",
    "print(\"------------------------------\")\n",
    "print(df_campaign_treated['last_contact_date'].head())\n",
    "\n",
    "# Treating the Date data\n",
    "df_campaign_treated['last_contact_date'] = df_campaign_treated['last_contact_date'].dt.strftime(\"%Y-%m-%d\")"
   ]
  },
  {
   "cell_type": "code",
   "execution_count": 26,
   "metadata": {},
   "outputs": [
    {
     "name": "stdout",
     "output_type": "stream",
     "text": [
      "client_id                      int64\n",
      "number_contacts                int64\n",
      "contact_duration               int64\n",
      "previous_campaign_contacts     int64\n",
      "previous_outcome                bool\n",
      "campaign_outcome                bool\n",
      "last_contact_date             object\n",
      "dtype: object\n"
     ]
    }
   ],
   "source": [
    "# Selecting Important Columns\n",
    "df_campaign_treated_cols = ['client_id', 'number_contacts', 'contact_duration', 'previous_campaign_contacts', 'previous_outcome', 'campaign_outcome', 'last_contact_date']\n",
    "df_campaign_treated = df_campaign_treated[df_campaign_treated_cols]\n",
    "print(df_campaign_treated.dtypes)"
   ]
  },
  {
   "cell_type": "markdown",
   "metadata": {},
   "source": [
    "### Saving campaign as CSV"
   ]
  },
  {
   "cell_type": "code",
   "execution_count": 27,
   "metadata": {},
   "outputs": [],
   "source": [
    "# Saving dataframe as CSV\n",
    "df_campaign_treated.to_csv(\"workspace/sources/datacamp/project_01_bank_mkt/campaign.csv\", index=False)"
   ]
  },
  {
   "cell_type": "markdown",
   "metadata": {},
   "source": [
    "## Building economics.csv"
   ]
  },
  {
   "cell_type": "code",
   "execution_count": 28,
   "metadata": {},
   "outputs": [
    {
     "name": "stdout",
     "output_type": "stream",
     "text": [
      "   client_id  cons_price_idx  euribor_three_months\n",
      "0          0          93.994                 4.857\n",
      "1          1          93.994                 4.857\n",
      "2          2          93.994                 4.857\n",
      "3          3          93.994                 4.857\n",
      "4          4          93.994                 4.857\n"
     ]
    }
   ],
   "source": [
    "# Selecting columns\n",
    "df_economics_cols_list = ['client_id', 'cons_price_idx', 'euribor_three_months']\n",
    "df_economics = df[df_economics_cols_list]\n",
    "print(df_economics.head())"
   ]
  },
  {
   "cell_type": "markdown",
   "metadata": {},
   "source": [
    "### Checking Data Types"
   ]
  },
  {
   "cell_type": "code",
   "execution_count": 29,
   "metadata": {},
   "outputs": [
    {
     "data": {
      "text/plain": [
       "client_id                 int64\n",
       "cons_price_idx          float64\n",
       "euribor_three_months    float64\n",
       "dtype: object"
      ]
     },
     "execution_count": 29,
     "metadata": {},
     "output_type": "execute_result"
    }
   ],
   "source": [
    "df_economics.dtypes"
   ]
  },
  {
   "cell_type": "markdown",
   "metadata": {},
   "source": [
    "### Saving a copy"
   ]
  },
  {
   "cell_type": "code",
   "execution_count": 30,
   "metadata": {},
   "outputs": [
    {
     "name": "stdout",
     "output_type": "stream",
     "text": [
      "   client_id  cons_price_idx  euribor_three_months\n",
      "0          0          93.994                 4.857\n",
      "1          1          93.994                 4.857\n",
      "2          2          93.994                 4.857\n",
      "3          3          93.994                 4.857\n",
      "4          4          93.994                 4.857\n"
     ]
    }
   ],
   "source": [
    "df_economics_treated = df_economics.copy()\n",
    "print(df_economics_treated.head())"
   ]
  },
  {
   "cell_type": "markdown",
   "metadata": {},
   "source": [
    "### Saving economics as CSV"
   ]
  },
  {
   "cell_type": "code",
   "execution_count": 31,
   "metadata": {},
   "outputs": [],
   "source": [
    "# Saving dataframe as CSV\n",
    "df_economics_treated.to_csv(\"workspace/sources/datacamp/project_01_bank_mkt/economics.csv\", index=False)"
   ]
  }
 ],
 "metadata": {
  "kernelspec": {
   "display_name": "Python 3",
   "language": "python",
   "name": "python3"
  },
  "language_info": {
   "codemirror_mode": {
    "name": "ipython",
    "version": 3
   },
   "file_extension": ".py",
   "mimetype": "text/x-python",
   "name": "python",
   "nbconvert_exporter": "python",
   "pygments_lexer": "ipython3",
   "version": "3.11.9"
  }
 },
 "nbformat": 4,
 "nbformat_minor": 2
}
