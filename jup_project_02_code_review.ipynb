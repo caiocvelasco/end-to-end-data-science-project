{
 "cells": [
  {
   "cell_type": "markdown",
   "metadata": {},
   "source": [
    "# Smartphone Data - Code Review"
   ]
  },
  {
   "cell_type": "markdown",
   "metadata": {},
   "source": [
    "* Interested party: Procurement Team\n",
    "* Question: What is the best new mobile phone to offer to the university's employees?\n",
    "* Data flow: Smartphone data from a CSV file for visualization\n",
    "* Code to be reviwed: function to plot a variable passed to the function, versus `\"price\"`\n",
    "* Problem 1: within this function, there is code that does not adhere to DRY principles and is copied and pasted (modularity issue)\n",
    "    * Solution: refactor the code using the `column_to_label()` function defined below\n",
    "* Problem 2: unit test (`test_nan_values`) to ensure `NaN` values were removed from the cleaned DataFrame with smartphone data that was ingested from a CSV. However, the code is not passing the test.\n",
    "    * Solution: \n",
    "        * Re-work this unit test to ensure that it matches the transformation logic in the `prepare_smartphone_data()` function.\n",
    "        * Ensure that these unit tests execute with `ExitCode.OK`. This means that the `pytest` defined above has passed testing\n",
    "\n",
    "* General procedures:\n",
    "    1. Review code for documentation and readability\n",
    "\n",
    "    2. Review code for PEP-8 compliance\n",
    "\n",
    "    3. Review code for DRY principles\n",
    "\n",
    "    4. Reviewing unit tests"
   ]
  },
  {
   "cell_type": "markdown",
   "metadata": {},
   "source": [
    "## Ingesting from CSV and Preparing Data"
   ]
  },
  {
   "cell_type": "code",
   "execution_count": 1,
   "metadata": {},
   "outputs": [],
   "source": [
    "import os\n",
    "import pandas as pd\n",
    "import seaborn as sns\n",
    "import matplotlib.pyplot as plt\n",
    "\n",
    "file_path = \"workspace/sources/datacamp/general_datasets/smartphones.csv\""
   ]
  },
  {
   "cell_type": "code",
   "execution_count": 2,
   "metadata": {},
   "outputs": [
    {
     "name": "stdout",
     "output_type": "stream",
     "text": [
      "  brand_name                    model   price  avg_rating  5G_or_not  \\\n",
      "0      apple          Apple iPhone 11   38999         7.3          0   \n",
      "1      apple  Apple iPhone 11 (128GB)   46999         7.5          0   \n",
      "2      apple  Apple iPhone 11 Pro Max  109900         7.7          0   \n",
      "3      apple          Apple iPhone 12   51999         7.4          1   \n",
      "4      apple  Apple iPhone 12 (128GB)   55999         7.5          1   \n",
      "\n",
      "  processor_brand  num_cores  processor_speed  battery_capacity  \\\n",
      "0          bionic        6.0             2.65            3110.0   \n",
      "1          bionic        6.0             2.65            3110.0   \n",
      "2          bionic        6.0             2.65            3500.0   \n",
      "3          bionic        6.0             3.10               NaN   \n",
      "4          bionic        6.0             3.10               NaN   \n",
      "\n",
      "   fast_charging_available  ...  internal_memory  screen_size  refresh_rate  \\\n",
      "0                        0  ...               64          6.1            60   \n",
      "1                        0  ...              128          6.1            60   \n",
      "2                        1  ...               64          6.5            60   \n",
      "3                        0  ...               64          6.1            60   \n",
      "4                        0  ...              128          6.1            60   \n",
      "\n",
      "   num_rear_cameras   os  primary_camera_rear primary_camera_front  \\\n",
      "0                 2  ios                 12.0                 12.0   \n",
      "1                 2  ios                 12.0                 12.0   \n",
      "2                 3  ios                 12.0                 12.0   \n",
      "3                 2  ios                 12.0                 12.0   \n",
      "4                 2  ios                 12.0                 12.0   \n",
      "\n",
      "   extended_memory_available  resolution_height  resolution_width  \n",
      "0                          0               1792               828  \n",
      "1                          0               1792               828  \n",
      "2                          0               2688              1242  \n",
      "3                          0               2532              1170  \n",
      "4                          0               2532              1170  \n",
      "\n",
      "[5 rows x 22 columns]\n"
     ]
    },
    {
     "name": "stderr",
     "output_type": "stream",
     "text": [
      "/tmp/ipykernel_680/3088155199.py:36: SettingWithCopyWarning: \n",
      "A value is trying to be set on a copy of a slice from a DataFrame.\n",
      "Try using .loc[row_indexer,col_indexer] = value instead\n",
      "\n",
      "See the caveats in the documentation: https://pandas.pydata.org/pandas-docs/stable/user_guide/indexing.html#returning-a-view-versus-a-copy\n",
      "  reduced_data[\"price\"]=reduced_data[\"price\"]/ 100\n"
     ]
    }
   ],
   "source": [
    "# Function to prepare the data for visualization\n",
    "\n",
    "def prepare_smartphone_data(file_path):\n",
    "    \"\"\"\n",
    "    To prepare the smartphone data for visualization, a number of transformations \n",
    "    will be applied after reading in the raw DataFrame to memory, including:\n",
    "        - reducing the number of columns to only those needed for later analysis\n",
    "        - removing records without a battery_capacity value\n",
    "        - divide the price column by 100 to find the dollar amount\n",
    "    \n",
    "    :param file_path: the file path where the raw smartphone data is stored\n",
    "    :return: a cleaned dataset having had the operations above applied to it\n",
    "    \"\"\"\n",
    "    \n",
    "    if os.path.exists(file_path):\n",
    "        raw_data = pd.read_csv(file_path)\n",
    "        print(raw_data.head())  # TODO: Use this for checking out the dataset, remove before submission\n",
    "    else:\n",
    "        raise Exception(f\"File containing smartphone data not found at path {file_path}\")\n",
    "\n",
    "    reduced_columns = [\n",
    "        \"brand_name\",\n",
    "        \"os\",\n",
    "        \"price\",\n",
    "        \"avg_rating\",\n",
    "        \"processor_speed\",\n",
    "        \"battery_capacity\",\n",
    "        \"screen_size\"\n",
    "    ]\n",
    "    trimmed_data=raw_data.loc[:, reduced_columns]\n",
    "    \n",
    "    # Remove records without a battery_capacity value\n",
    "    reduced_data=trimmed_data.dropna(subset=[\"battery_capacity\", \"os\"])\n",
    "    \n",
    "    # Divide the price column by 100 to find the dollar amount\n",
    "    reduced_data[\"price\"]=reduced_data[\"price\"]/ 100\n",
    "    \n",
    "    return reduced_data\n",
    "\n",
    "\n",
    "# Call the function\n",
    "cleaned_data = prepare_smartphone_data(file_path)"
   ]
  },
  {
   "cell_type": "markdown",
   "metadata": {},
   "source": [
    "## Creating Tests - NaN/Null Check"
   ]
  },
  {
   "cell_type": "code",
   "execution_count": 3,
   "metadata": {},
   "outputs": [
    {
     "name": "stdout",
     "output_type": "stream",
     "text": [
      "\u001b[32m.\u001b[0m\u001b[32m                                                                                            [100%]\u001b[0m\n",
      "\u001b[33m========================================= warnings summary =========================================\u001b[0m\n",
      "t_60b29897fd5d459dab839ab1a44a8692.py::test_nan_values\n",
      "  /tmp/ipykernel_680/3088155199.py:36: SettingWithCopyWarning: \n",
      "  A value is trying to be set on a copy of a slice from a DataFrame.\n",
      "  Try using .loc[row_indexer,col_indexer] = value instead\n",
      "  \n",
      "  See the caveats in the documentation: https://pandas.pydata.org/pandas-docs/stable/user_guide/indexing.html#returning-a-view-versus-a-copy\n",
      "    reduced_data[\"price\"]=reduced_data[\"price\"]/ 100\n",
      "\n",
      "-- Docs: https://docs.pytest.org/en/stable/how-to/capture-warnings.html\n"
     ]
    },
    {
     "data": {
      "text/plain": [
       "<ExitCode.OK: 0>"
      ]
     },
     "execution_count": 3,
     "metadata": {},
     "output_type": "execute_result"
    }
   ],
   "source": [
    "# Import required packages\n",
    "import pytest\n",
    "import ipytest\n",
    "\n",
    "ipytest.config.rewrite_asserts = True\n",
    "__file__ = \"notebook.ipynb\"\n",
    "\n",
    "\n",
    "# Create a clean DataFrame fixture\n",
    "@pytest.fixture()\n",
    "def clean_smartphone_data():\n",
    "    return prepare_smartphone_data(file_path)\n",
    "    \n",
    "def test_nan_values(clean_smartphone_data):\n",
    "    \"\"\"\n",
    "    Test for no NaN value for \"battery_capacity\" or \"os\"\n",
    "    \"\"\"\n",
    "    \n",
    "    # Assert there are no NaN value in \"battery_capacity\" or \"os\"\n",
    "    assert clean_smartphone_data[\"battery_capacity\"].isnull().sum() == 0\n",
    "    assert clean_smartphone_data[\"os\"].isnull().sum() == 0\n",
    "\n",
    "    \n",
    "ipytest.run(\"-qq\")\n"
   ]
  }
 ],
 "metadata": {
  "kernelspec": {
   "display_name": "Python 3",
   "language": "python",
   "name": "python3"
  },
  "language_info": {
   "codemirror_mode": {
    "name": "ipython",
    "version": 3
   },
   "file_extension": ".py",
   "mimetype": "text/x-python",
   "name": "python",
   "nbconvert_exporter": "python",
   "pygments_lexer": "ipython3",
   "version": "3.11.9"
  }
 },
 "nbformat": 4,
 "nbformat_minor": 2
}
