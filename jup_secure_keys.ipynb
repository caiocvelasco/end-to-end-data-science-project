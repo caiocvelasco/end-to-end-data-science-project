{
 "cells": [
  {
   "cell_type": "markdown",
   "metadata": {},
   "source": [
    "# Securing Keys to Access Databases or APIs"
   ]
  },
  {
   "cell_type": "markdown",
   "metadata": {},
   "source": [
    "## Topics\n",
    "* Saving key in the environmental variables:\n",
    "    * When dealing with sensitive information like API keys that you don't want to expose publicly in your GitHub repository, one common approach is to use environment variables. Environment variables are variables that are set outside of the code and can be accessed by the code during runtime.\n",
    "* Accessing the key\n",
    "    * During the Docker image build process, Docker itself doesn't directly access environment variables for use within the application code. Instead, Docker can be instructed to set environment variables within the container at runtime, and these variables are accessible by the application running inside the container.\n",
    "    * Thus, I will let the way to run the python locally here in case you want to access the environment variable. However, when using docker, you would need to expose the key in the docker compose file.\n",
    "    * If you don't want to expose sensitive information like API keys directly in your Docker Compose file, you can use _Docker secrets_ or external configuration files to securely manage these values.\n",
    "* (To be continued...) Using Docker Secrets to encrypt the keys"
   ]
  },
  {
   "cell_type": "code",
   "execution_count": 1,
   "metadata": {},
   "outputs": [
    {
     "name": "stdout",
     "output_type": "stream",
     "text": [
      "CSS3DVqbE-UidPxDG9NKUa9B8m_yNfAlXqoAfAANycE663eIVs7lOaAMpnJd2o7m8GCFG7pwAtv2JK45zlZiqQcu-t2cCTmQLQ5o2PmbMlO3P9t_7ghtYfWO2MYwZnYx\n"
     ]
    }
   ],
   "source": [
    "import os\n",
    "\n",
    "# Get the Yelp API key from the .env file\n",
    "api_key = os.environ.get(\"YELP_API_KEY\")\n",
    "\n",
    "if api_key is None:\n",
    "    print(\"YELP_API_KEY environment variable is not set!\")\n",
    "    # You can handle this case however you want, such as exiting the program\n",
    "else:\n",
    "    headers = {\"Authorization\": \"Bearer {}\".format(api_key)}\n",
    "    params = {\"term\": \"bookstore\", \n",
    "              \"location\": \"San Francisco\"}\n",
    "    print(api_key)\n",
    "\n"
   ]
  },
  {
   "cell_type": "code",
   "execution_count": null,
   "metadata": {},
   "outputs": [],
   "source": [
    "# Step by Step for Docker Secrets\n",
    "\n",
    "# 1) Initialize Docker Swarms\n",
    "    # Check if you have Docker Swarms\n",
    "        # cmd (local machine, outside the container) -> docker info\n",
    "    # Look for the line that says \"Swarm: active\" under the \"Swarm\" section. If it says \"active,\" then Docker Swarm is already initialized on your machine.\n",
    "    # If it says \"inactive,\" Docker Swarm is not initialized. If Swarm is inactive: You need to initialize Docker Swarm.\n",
    "        # cmd (local machine, outside the container) -> docker swarm init\n",
    "    # Docker Swarm cannot be initialized within a Dockerfile or Docker Compose file. \n",
    "    # Docker Swarm is a separate orchestration tool that needs to be initialized on the Docker host machine itself, not within individual containers or services.\n",
    "    # The initialization of Docker Swarm is a one-time setup process that is performed on the Docker host machine to prepare it for running services in a Swarm mode.\n",
    "\n",
    "#2) Create Docker Secrets for each credential\n",
    "    # Docker Secrets cannot be created directly in the Dockerfile or the Docker Compose file. They must be created manually.\n",
    "        # cmd (local machine, outside the container):\n",
    "            # echo \"xyz\" | docker secret create POSTGRES_USER -\n",
    "            # echo \"xyz\" | docker secret create POSTGRES_PASSWORD -\n",
    "            # echo \"xyz\" | docker secret create POSTGRES_DB -\n",
    "            # echo \"your_api_key\" | docker secret create YOUR_API_KEY_NAME -\n",
    "    # To check that the credentials were created, do for each one:\n",
    "        # cmd -> docker secret inspect POSTGRES_USER\n",
    "\n",
    "# (TO BE CONTINUED)"
   ]
  }
 ],
 "metadata": {
  "kernelspec": {
   "display_name": "Python 3",
   "language": "python",
   "name": "python3"
  },
  "language_info": {
   "codemirror_mode": {
    "name": "ipython",
    "version": 3
   },
   "file_extension": ".py",
   "mimetype": "text/x-python",
   "name": "python",
   "nbconvert_exporter": "python",
   "pygments_lexer": "ipython3",
   "version": "3.11.9"
  }
 },
 "nbformat": 4,
 "nbformat_minor": 2
}
